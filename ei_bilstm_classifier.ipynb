{
 "cells": [
  {
   "cell_type": "markdown",
   "id": "6fe94288",
   "metadata": {},
   "source": [
    "# Bi-LSTM 기반 E/I 이진 분류기 학습 노트북"
   ]
  },
  {
   "cell_type": "code",
   "execution_count": 1,
   "id": "8c732366",
   "metadata": {},
   "outputs": [],
   "source": [
    "\n",
    "import pandas as pd\n",
    "import numpy as np\n",
    "import tensorflow as tf\n",
    "from sklearn.model_selection import train_test_split\n",
    "from sklearn.utils.class_weight import compute_class_weight\n",
    "from tensorflow.keras.preprocessing.text import Tokenizer\n",
    "from tensorflow.keras.preprocessing.sequence import pad_sequences\n",
    "from tensorflow.keras.callbacks import EarlyStopping\n",
    "import pickle\n"
   ]
  },
  {
   "cell_type": "code",
   "execution_count": 2,
   "id": "77a4d886",
   "metadata": {},
   "outputs": [],
   "source": [
    "# ------------------------------------------\n",
    "# 1. 데이터 로딩 및 전처리\n",
    "df = pd.read_csv('mbti_binary_multi_sentence.csv')\n",
    "df = df.dropna(subset=['text', 'EI'])\n",
    "\n",
    "X = df['text']\n",
    "y = df['EI']\n",
    "X_train, X_val, y_train, y_val = train_test_split(\n",
    "    X, y, test_size=0.2, stratify=y, random_state=42\n",
    ")"
   ]
  },
  {
   "cell_type": "code",
   "execution_count": 3,
   "id": "a2adc381",
   "metadata": {},
   "outputs": [],
   "source": [
    "# 2. 텍스트 토큰화 및 시퀀스 생성\n",
    "tokenizer = Tokenizer(num_words=20000, oov_token=\"<OOV>\")\n",
    "tokenizer.fit_on_texts(X_train)\n",
    "\n",
    "X_train_seq = tokenizer.texts_to_sequences(X_train)\n",
    "X_val_seq = tokenizer.texts_to_sequences(X_val)\n",
    "\n",
    "max_len = 300\n",
    "X_train_pad = pad_sequences(X_train_seq, maxlen=max_len, padding='post')\n",
    "X_val_pad = pad_sequences(X_val_seq, maxlen=max_len, padding='post')"
   ]
  },
  {
   "cell_type": "code",
   "execution_count": 4,
   "id": "7e86f5b0",
   "metadata": {},
   "outputs": [
    {
     "name": "stdout",
     "output_type": "stream",
     "text": [
      "[클래스 가중치]: {np.int64(0): np.float64(0.7655169432918395), np.int64(1): np.float64(1.4415594986163112)}\n"
     ]
    }
   ],
   "source": [
    "# 3. 클래스 불균형 보정을 위한 class_weight 계산\n",
    "classes = np.unique(y_train)\n",
    "weights = compute_class_weight(class_weight='balanced', classes=classes, y=y_train)\n",
    "class_weights = dict(zip(classes, weights))\n",
    "print(f\"[클래스 가중치]: {class_weights}\")"
   ]
  },
  {
   "cell_type": "code",
   "execution_count": 5,
   "id": "31977b6f",
   "metadata": {},
   "outputs": [
    {
     "name": "stderr",
     "output_type": "stream",
     "text": [
      "c:\\Users\\User\\anaconda3\\envs\\test\\Lib\\site-packages\\keras\\src\\layers\\core\\embedding.py:90: UserWarning: Argument `input_length` is deprecated. Just remove it.\n",
      "  warnings.warn(\n"
     ]
    }
   ],
   "source": [
    "# 4. Bi-LSTM 이진 분류기 모델 구성\n",
    "model = tf.keras.Sequential([\n",
    "    tf.keras.layers.Embedding(input_dim=20000, output_dim=128, input_length=max_len),\n",
    "    tf.keras.layers.Bidirectional(tf.keras.layers.LSTM(64, dropout=0.3, recurrent_dropout=0.3)),\n",
    "    tf.keras.layers.Dense(32, activation='relu'),\n",
    "    tf.keras.layers.Dropout(0.5),\n",
    "    tf.keras.layers.Dense(1, activation='sigmoid')\n",
    "])\n",
    "\n",
    "model.compile(\n",
    "    loss='binary_crossentropy',\n",
    "    optimizer=tf.keras.optimizers.Adam(learning_rate=0.0003),\n",
    "    metrics=['accuracy']\n",
    ")"
   ]
  },
  {
   "cell_type": "code",
   "execution_count": 6,
   "id": "5493d260",
   "metadata": {},
   "outputs": [
    {
     "name": "stdout",
     "output_type": "stream",
     "text": [
      "Epoch 1/2\n",
      "\u001b[1m554/554\u001b[0m \u001b[32m━━━━━━━━━━━━━━━━━━━━\u001b[0m\u001b[37m\u001b[0m \u001b[1m151s\u001b[0m 268ms/step - accuracy: 0.5336 - loss: 0.6927 - val_accuracy: 0.5278 - val_loss: 0.6912\n",
      "Epoch 2/2\n",
      "\u001b[1m273/554\u001b[0m \u001b[32m━━━━━━━━━\u001b[0m\u001b[37m━━━━━━━━━━━\u001b[0m \u001b[1m1:09\u001b[0m 246ms/step - accuracy: 0.6030 - loss: 0.6796"
     ]
    }
   ],
   "source": [
    "# 5. 학습\n",
    "early_stop = EarlyStopping(\n",
    "    monitor='val_loss',\n",
    "    patience=2,\n",
    "    restore_best_weights=True\n",
    ")\n",
    "\n",
    "history = model.fit(\n",
    "    X_train_pad, y_train,\n",
    "    validation_data=(X_val_pad, y_val),\n",
    "    epochs=2,\n",
    "    batch_size=32,\n",
    "    class_weight=class_weights,  # ⭐ 클래스 가중치 적용\n",
    "    callbacks=[early_stop]\n",
    ")\n"
   ]
  },
  {
   "cell_type": "code",
   "execution_count": null,
   "id": "5ac3f40f",
   "metadata": {},
   "outputs": [
    {
     "name": "stdout",
     "output_type": "stream",
     "text": [
      "\u001b[1m139/139\u001b[0m \u001b[32m━━━━━━━━━━━━━━━━━━━━\u001b[0m\u001b[37m\u001b[0m \u001b[1m6s\u001b[0m 41ms/step - accuracy: 0.6261 - loss: 0.6902\n",
      "검증 정확도: 0.6161, 검증 손실: 0.6987\n"
     ]
    }
   ],
   "source": [
    "# 6. 검증 정확도 출력\n",
    "val_loss, val_acc = model.evaluate(X_val_pad, y_val)\n",
    "print(f\"\\n[검증 정확도]: {val_acc:.4f} / [검증 손실]: {val_loss:.4f}\")"
   ]
  },
  {
   "cell_type": "code",
   "execution_count": null,
   "id": "836b435b",
   "metadata": {},
   "outputs": [],
   "source": [
    "# 7. 토크나이저 및 모델 저장\n",
    "with open(\"ei_tokenizer2.pkl\", \"wb\") as f:\n",
    "    pickle.dump(tokenizer, f)\n",
    "\n",
    "model.save(\"ei_bilstm_model2.h5\")\n",
    "print(\"모델 및 토크나이저 저장 완료\")"
   ]
  }
 ],
 "metadata": {
  "kernelspec": {
   "display_name": "“test",
   "language": "python",
   "name": "test"
  },
  "language_info": {
   "codemirror_mode": {
    "name": "ipython",
    "version": 3
   },
   "file_extension": ".py",
   "mimetype": "text/x-python",
   "name": "python",
   "nbconvert_exporter": "python",
   "pygments_lexer": "ipython3",
   "version": "3.11.7"
  }
 },
 "nbformat": 4,
 "nbformat_minor": 5
}
