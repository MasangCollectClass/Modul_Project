{
 "cells": [
  {
   "cell_type": "markdown",
   "id": "12862095",
   "metadata": {},
   "source": [
    "### 세 파트 모두 연동한 코드"
   ]
  },
  {
   "cell_type": "code",
   "execution_count": 1,
   "id": "683184aa",
   "metadata": {},
   "outputs": [
    {
     "name": "stderr",
     "output_type": "stream",
     "text": [
      "WARNING:absl:Compiled the loaded model, but the compiled metrics have yet to be built. `model.compile_metrics` will be empty until you train or evaluate the model.\n",
      "WARNING:absl:Compiled the loaded model, but the compiled metrics have yet to be built. `model.compile_metrics` will be empty until you train or evaluate the model.\n",
      "WARNING:absl:Compiled the loaded model, but the compiled metrics have yet to be built. `model.compile_metrics` will be empty until you train or evaluate the model.\n",
      "WARNING:absl:Compiled the loaded model, but the compiled metrics have yet to be built. `model.compile_metrics` will be empty until you train or evaluate the model.\n"
     ]
    }
   ],
   "source": [
    "import os\n",
    "import pickle\n",
    "import tensorflow as tf\n",
    "from tensorflow.keras.preprocessing.sequence import pad_sequences\n",
    "\n",
    "# 모델 경로\n",
    "model_paths = {\n",
    "    \"ei\": (\"models/ei_bilstm_model2.h5\", \"tokenizers/ei_tokenizer2.pkl\"),\n",
    "    \"ns\": (\"models/ns_bilstm_model2.h5\", \"tokenizers/ns_tokenizer2.pkl\"),\n",
    "    \"tf\": (\"models/tf_bilstm_model.h5\", \"tokenizers/tf_tokenizer.pkl\"),\n",
    "    \"jp\": (\"models/jp_bilstm_model.h5\", \"tokenizers/jp_tokenizer.pkl\"),\n",
    "}\n",
    "\n",
    "models, tokenizers = {}, {}\n",
    "max_len = 300\n",
    "\n",
    "for trait, (model_file, tokenizer_file) in model_paths.items():\n",
    "    models[trait] = tf.keras.models.load_model(model_file)\n",
    "    with open(tokenizer_file, \"rb\") as f:\n",
    "        tokenizers[trait] = pickle.load(f)\n"
   ]
  },
  {
   "cell_type": "code",
   "execution_count": null,
   "id": "f3085587",
   "metadata": {},
   "outputs": [],
   "source": []
  },
  {
   "cell_type": "code",
   "execution_count": 2,
   "id": "04bec2a7",
   "metadata": {},
   "outputs": [],
   "source": [
    "def predict_mbti_per_trait_threshold(text, models, tokenizers, thresholds, max_len=300):\n",
    "    label_pairs = {\"ei\": (\"E\", \"I\"), \"ns\": (\"N\", \"S\"), \"tf\": (\"T\", \"F\"), \"jp\": (\"J\", \"P\")}\n",
    "    result = \"\"\n",
    "    debug_log = []\n",
    "\n",
    "    for trait in [\"ei\", \"ns\", \"tf\", \"jp\"]:\n",
    "        tokenizer = tokenizers[trait]\n",
    "        model = models[trait]\n",
    "        seq = tokenizer.texts_to_sequences([text])\n",
    "        padded = tf.keras.preprocessing.sequence.pad_sequences(seq, maxlen=max_len, padding='post')\n",
    "        pred = model.predict(padded)[0][0]\n",
    "        threshold = thresholds.get(trait, 0.5)\n",
    "\n",
    "        \n",
    "        label = label_pairs[trait][0] if pred >= threshold else label_pairs[trait][1]\n",
    "\n",
    "        debug_log.append((trait.upper(), pred, label))\n",
    "        result += label\n",
    "\n",
    "    return result, debug_log\n"
   ]
  },
  {
   "cell_type": "code",
   "execution_count": 12,
   "id": "19daefc4",
   "metadata": {},
   "outputs": [
    {
     "name": "stdout",
     "output_type": "stream",
     "text": [
      "\u001b[1m1/1\u001b[0m \u001b[32m━━━━━━━━━━━━━━━━━━━━\u001b[0m\u001b[37m\u001b[0m \u001b[1m0s\u001b[0m 37ms/step\n",
      "\u001b[1m1/1\u001b[0m \u001b[32m━━━━━━━━━━━━━━━━━━━━\u001b[0m\u001b[37m\u001b[0m \u001b[1m0s\u001b[0m 37ms/step\n",
      "\u001b[1m1/1\u001b[0m \u001b[32m━━━━━━━━━━━━━━━━━━━━\u001b[0m\u001b[37m\u001b[0m \u001b[1m0s\u001b[0m 36ms/step\n",
      "\u001b[1m1/1\u001b[0m \u001b[32m━━━━━━━━━━━━━━━━━━━━\u001b[0m\u001b[37m\u001b[0m \u001b[1m0s\u001b[0m 37ms/step\n",
      "\n",
      "[예측 상세 로그]\n",
      "EI: 확률=0.4005 → 분류결과=E\n",
      "NS: 확률=0.8752 → 분류결과=N\n",
      "TF: 확률=0.6519 → 분류결과=T\n",
      "JP: 확률=0.4349 → 분류결과=P\n",
      "\n",
      "[최종 예측 MBTI]: ENTP\n"
     ]
    }
   ],
   "source": [
    "# 대표 질문 답변 (각 MBTI 지표별 1개)\n",
    "session_inputs = [\n",
    "    \"새로운 아이디어를 떠올리는 걸 정말 좋아해요.\",\n",
    "    \"사람들과 토론하면서 생각을 넓히는 게 즐거워요.\",\n",
    "    \"계획대로 움직이기보다는 그때그때 흥미로운 걸 따라가요.\",\n",
    "    \"틀에 박힌 방식보다는 창의적인 해결책을 선호해요.\",\n",
    "    \"상대방의 논리를 반박하면서 더 나은 방향을 찾는 걸 즐겨요.\",\n",
    "    \"여러 가지 가능성을 동시에 고려하는 편이에요.\",\n",
    "    \"새로운 프로젝트나 시도를 두려워하지 않아요.\",\n",
    "    \"혼자보다 여러 사람과 함께할 때 더 에너지가 나요.\",\n",
    "    \"감정보다 논리와 전략으로 접근하는 걸 선호해요.\",\n",
    "    \"즉흥적인 결정이 오히려 더 좋은 결과를 가져올 때도 많다고 생각해요.\"\n",
    "]\n",
    "\n",
    "combined_text = \" \".join(session_inputs)\n",
    "\n",
    "\n",
    "# 예측 실행 (지표별 threshold 적용)\n",
    "thresholds = {\"ei\": 0.40, \"ns\": 0.85, \"tf\": 0.62, \"jp\": 0.50}\n",
    "predicted_mbti, logs = predict_mbti_per_trait_threshold(combined_text, models, tokenizers, thresholds)\n",
    "\n",
    "# 결과 출력\n",
    "print(\"\\n[예측 상세 로그]\")\n",
    "for trait, prob, label in logs:\n",
    "    print(f\"{trait}: 확률={prob:.4f} → 분류결과={label}\")\n",
    "print(f\"\\n[최종 예측 MBTI]: {predicted_mbti}\")\n"
   ]
  },
  {
   "cell_type": "code",
   "execution_count": null,
   "id": "3aab1ba0",
   "metadata": {},
   "outputs": [],
   "source": []
  }
 ],
 "metadata": {
  "kernelspec": {
   "display_name": "“test",
   "language": "python",
   "name": "test"
  },
  "language_info": {
   "codemirror_mode": {
    "name": "ipython",
    "version": 3
   },
   "file_extension": ".py",
   "mimetype": "text/x-python",
   "name": "python",
   "nbconvert_exporter": "python",
   "pygments_lexer": "ipython3",
   "version": "3.11.7"
  }
 },
 "nbformat": 4,
 "nbformat_minor": 5
}
