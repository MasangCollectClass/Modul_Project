{
 "cells": [
  {
   "cell_type": "code",
   "execution_count": 1,
   "id": "62e833e8",
   "metadata": {},
   "outputs": [
    {
     "name": "stdout",
     "output_type": "stream",
     "text": [
      "Requirement already satisfied: streamlit in c:\\수업\\modul_proj\\modul_project\\.venv\\lib\\site-packages (1.46.1)\n",
      "Requirement already satisfied: altair<6,>=4.0 in c:\\수업\\modul_proj\\modul_project\\.venv\\lib\\site-packages (from streamlit) (5.5.0)\n",
      "Requirement already satisfied: blinker<2,>=1.5.0 in c:\\수업\\modul_proj\\modul_project\\.venv\\lib\\site-packages (from streamlit) (1.9.0)\n",
      "Requirement already satisfied: cachetools<7,>=4.0 in c:\\수업\\modul_proj\\modul_project\\.venv\\lib\\site-packages (from streamlit) (6.1.0)\n",
      "Requirement already satisfied: click<9,>=7.0 in c:\\수업\\modul_proj\\modul_project\\.venv\\lib\\site-packages (from streamlit) (8.1.8)\n",
      "Requirement already satisfied: numpy<3,>=1.23 in c:\\수업\\modul_proj\\modul_project\\.venv\\lib\\site-packages (from streamlit) (2.0.2)\n",
      "Requirement already satisfied: packaging<26,>=20 in c:\\수업\\modul_proj\\modul_project\\.venv\\lib\\site-packages (from streamlit) (25.0)\n",
      "Requirement already satisfied: pandas<3,>=1.4.0 in c:\\수업\\modul_proj\\modul_project\\.venv\\lib\\site-packages (from streamlit) (2.3.0)\n",
      "Requirement already satisfied: pillow<12,>=7.1.0 in c:\\수업\\modul_proj\\modul_project\\.venv\\lib\\site-packages (from streamlit) (11.3.0)\n",
      "Requirement already satisfied: protobuf<7,>=3.20 in c:\\수업\\modul_proj\\modul_project\\.venv\\lib\\site-packages (from streamlit) (5.29.5)\n",
      "Requirement already satisfied: pyarrow>=7.0 in c:\\수업\\modul_proj\\modul_project\\.venv\\lib\\site-packages (from streamlit) (20.0.0)\n",
      "Requirement already satisfied: requests<3,>=2.27 in c:\\수업\\modul_proj\\modul_project\\.venv\\lib\\site-packages (from streamlit) (2.32.4)\n",
      "Requirement already satisfied: tenacity<10,>=8.1.0 in c:\\수업\\modul_proj\\modul_project\\.venv\\lib\\site-packages (from streamlit) (9.1.2)\n",
      "Requirement already satisfied: toml<2,>=0.10.1 in c:\\수업\\modul_proj\\modul_project\\.venv\\lib\\site-packages (from streamlit) (0.10.2)\n",
      "Requirement already satisfied: typing-extensions<5,>=4.4.0 in c:\\수업\\modul_proj\\modul_project\\.venv\\lib\\site-packages (from streamlit) (4.14.0)\n",
      "Requirement already satisfied: watchdog<7,>=2.1.5 in c:\\수업\\modul_proj\\modul_project\\.venv\\lib\\site-packages (from streamlit) (6.0.0)\n",
      "Requirement already satisfied: gitpython!=3.1.19,<4,>=3.0.7 in c:\\수업\\modul_proj\\modul_project\\.venv\\lib\\site-packages (from streamlit) (3.1.44)\n",
      "Requirement already satisfied: pydeck<1,>=0.8.0b4 in c:\\수업\\modul_proj\\modul_project\\.venv\\lib\\site-packages (from streamlit) (0.9.1)\n",
      "Requirement already satisfied: tornado!=6.5.0,<7,>=6.0.3 in c:\\수업\\modul_proj\\modul_project\\.venv\\lib\\site-packages (from streamlit) (6.5.1)\n",
      "Requirement already satisfied: jinja2 in c:\\수업\\modul_proj\\modul_project\\.venv\\lib\\site-packages (from altair<6,>=4.0->streamlit) (3.1.6)\n",
      "Requirement already satisfied: jsonschema>=3.0 in c:\\수업\\modul_proj\\modul_project\\.venv\\lib\\site-packages (from altair<6,>=4.0->streamlit) (4.24.0)\n",
      "Requirement already satisfied: narwhals>=1.14.2 in c:\\수업\\modul_proj\\modul_project\\.venv\\lib\\site-packages (from altair<6,>=4.0->streamlit) (1.45.0)\n",
      "Requirement already satisfied: colorama in c:\\수업\\modul_proj\\modul_project\\.venv\\lib\\site-packages (from click<9,>=7.0->streamlit) (0.4.6)\n",
      "Requirement already satisfied: gitdb<5,>=4.0.1 in c:\\수업\\modul_proj\\modul_project\\.venv\\lib\\site-packages (from gitpython!=3.1.19,<4,>=3.0.7->streamlit) (4.0.12)\n",
      "Requirement already satisfied: smmap<6,>=3.0.1 in c:\\수업\\modul_proj\\modul_project\\.venv\\lib\\site-packages (from gitdb<5,>=4.0.1->gitpython!=3.1.19,<4,>=3.0.7->streamlit) (5.0.2)\n",
      "Requirement already satisfied: python-dateutil>=2.8.2 in c:\\수업\\modul_proj\\modul_project\\.venv\\lib\\site-packages (from pandas<3,>=1.4.0->streamlit) (2.9.0.post0)\n",
      "Requirement already satisfied: pytz>=2020.1 in c:\\수업\\modul_proj\\modul_project\\.venv\\lib\\site-packages (from pandas<3,>=1.4.0->streamlit) (2025.2)\n",
      "Requirement already satisfied: tzdata>=2022.7 in c:\\수업\\modul_proj\\modul_project\\.venv\\lib\\site-packages (from pandas<3,>=1.4.0->streamlit) (2025.2)\n",
      "Requirement already satisfied: charset_normalizer<4,>=2 in c:\\수업\\modul_proj\\modul_project\\.venv\\lib\\site-packages (from requests<3,>=2.27->streamlit) (3.4.2)\n",
      "Requirement already satisfied: idna<4,>=2.5 in c:\\수업\\modul_proj\\modul_project\\.venv\\lib\\site-packages (from requests<3,>=2.27->streamlit) (3.10)\n",
      "Requirement already satisfied: urllib3<3,>=1.21.1 in c:\\수업\\modul_proj\\modul_project\\.venv\\lib\\site-packages (from requests<3,>=2.27->streamlit) (2.5.0)\n",
      "Requirement already satisfied: certifi>=2017.4.17 in c:\\수업\\modul_proj\\modul_project\\.venv\\lib\\site-packages (from requests<3,>=2.27->streamlit) (2025.6.15)\n",
      "Requirement already satisfied: MarkupSafe>=2.0 in c:\\수업\\modul_proj\\modul_project\\.venv\\lib\\site-packages (from jinja2->altair<6,>=4.0->streamlit) (3.0.2)\n",
      "Requirement already satisfied: attrs>=22.2.0 in c:\\수업\\modul_proj\\modul_project\\.venv\\lib\\site-packages (from jsonschema>=3.0->altair<6,>=4.0->streamlit) (25.3.0)\n",
      "Requirement already satisfied: jsonschema-specifications>=2023.03.6 in c:\\수업\\modul_proj\\modul_project\\.venv\\lib\\site-packages (from jsonschema>=3.0->altair<6,>=4.0->streamlit) (2025.4.1)\n",
      "Requirement already satisfied: referencing>=0.28.4 in c:\\수업\\modul_proj\\modul_project\\.venv\\lib\\site-packages (from jsonschema>=3.0->altair<6,>=4.0->streamlit) (0.36.2)\n",
      "Requirement already satisfied: rpds-py>=0.7.1 in c:\\수업\\modul_proj\\modul_project\\.venv\\lib\\site-packages (from jsonschema>=3.0->altair<6,>=4.0->streamlit) (0.26.0)\n",
      "Requirement already satisfied: six>=1.5 in c:\\수업\\modul_proj\\modul_project\\.venv\\lib\\site-packages (from python-dateutil>=2.8.2->pandas<3,>=1.4.0->streamlit) (1.17.0)\n",
      "Note: you may need to restart the kernel to use updated packages.\n"
     ]
    }
   ],
   "source": [
    "pip install streamlit"
   ]
  },
  {
   "cell_type": "code",
   "execution_count": 2,
   "id": "54f7b5c3",
   "metadata": {},
   "outputs": [
    {
     "name": "stdout",
     "output_type": "stream",
     "text": [
      "Requirement already satisfied: dotenv in c:\\수업\\modul_proj\\modul_project\\.venv\\lib\\site-packages (0.9.9)\n",
      "Requirement already satisfied: python-dotenv in c:\\수업\\modul_proj\\modul_project\\.venv\\lib\\site-packages (from dotenv) (1.1.1)\n",
      "Note: you may need to restart the kernel to use updated packages.\n"
     ]
    }
   ],
   "source": [
    "pip install dotenv"
   ]
  },
  {
   "cell_type": "code",
   "execution_count": 3,
   "id": "35abdeb2",
   "metadata": {},
   "outputs": [
    {
     "name": "stdout",
     "output_type": "stream",
     "text": [
      "Requirement already satisfied: openai in c:\\수업\\modul_proj\\modul_project\\.venv\\lib\\site-packages (1.93.0)Note: you may need to restart the kernel to use updated packages.\n",
      "\n",
      "Requirement already satisfied: anyio<5,>=3.5.0 in c:\\수업\\modul_proj\\modul_project\\.venv\\lib\\site-packages (from openai) (4.9.0)\n",
      "Requirement already satisfied: distro<2,>=1.7.0 in c:\\수업\\modul_proj\\modul_project\\.venv\\lib\\site-packages (from openai) (1.9.0)\n",
      "Requirement already satisfied: httpx<1,>=0.23.0 in c:\\수업\\modul_proj\\modul_project\\.venv\\lib\\site-packages (from openai) (0.28.1)\n",
      "Requirement already satisfied: jiter<1,>=0.4.0 in c:\\수업\\modul_proj\\modul_project\\.venv\\lib\\site-packages (from openai) (0.10.0)\n",
      "Requirement already satisfied: pydantic<3,>=1.9.0 in c:\\수업\\modul_proj\\modul_project\\.venv\\lib\\site-packages (from openai) (2.11.7)\n",
      "Requirement already satisfied: sniffio in c:\\수업\\modul_proj\\modul_project\\.venv\\lib\\site-packages (from openai) (1.3.1)\n",
      "Requirement already satisfied: tqdm>4 in c:\\수업\\modul_proj\\modul_project\\.venv\\lib\\site-packages (from openai) (4.67.1)\n",
      "Requirement already satisfied: typing-extensions<5,>=4.11 in c:\\수업\\modul_proj\\modul_project\\.venv\\lib\\site-packages (from openai) (4.14.0)\n",
      "Requirement already satisfied: exceptiongroup>=1.0.2 in c:\\수업\\modul_proj\\modul_project\\.venv\\lib\\site-packages (from anyio<5,>=3.5.0->openai) (1.3.0)\n",
      "Requirement already satisfied: idna>=2.8 in c:\\수업\\modul_proj\\modul_project\\.venv\\lib\\site-packages (from anyio<5,>=3.5.0->openai) (3.10)\n",
      "Requirement already satisfied: certifi in c:\\수업\\modul_proj\\modul_project\\.venv\\lib\\site-packages (from httpx<1,>=0.23.0->openai) (2025.6.15)\n",
      "Requirement already satisfied: httpcore==1.* in c:\\수업\\modul_proj\\modul_project\\.venv\\lib\\site-packages (from httpx<1,>=0.23.0->openai) (1.0.9)\n",
      "Requirement already satisfied: h11>=0.16 in c:\\수업\\modul_proj\\modul_project\\.venv\\lib\\site-packages (from httpcore==1.*->httpx<1,>=0.23.0->openai) (0.16.0)\n",
      "Requirement already satisfied: annotated-types>=0.6.0 in c:\\수업\\modul_proj\\modul_project\\.venv\\lib\\site-packages (from pydantic<3,>=1.9.0->openai) (0.7.0)\n",
      "Requirement already satisfied: pydantic-core==2.33.2 in c:\\수업\\modul_proj\\modul_project\\.venv\\lib\\site-packages (from pydantic<3,>=1.9.0->openai) (2.33.2)\n",
      "Requirement already satisfied: typing-inspection>=0.4.0 in c:\\수업\\modul_proj\\modul_project\\.venv\\lib\\site-packages (from pydantic<3,>=1.9.0->openai) (0.4.1)\n",
      "Requirement already satisfied: colorama in c:\\수업\\modul_proj\\modul_project\\.venv\\lib\\site-packages (from tqdm>4->openai) (0.4.6)\n"
     ]
    }
   ],
   "source": [
    "pip install openai"
   ]
  },
  {
   "cell_type": "code",
   "execution_count": 4,
   "id": "38739042",
   "metadata": {},
   "outputs": [
    {
     "name": "stdout",
     "output_type": "stream",
     "text": [
      "Requirement already satisfied: pandas in c:\\수업\\modul_proj\\modul_project\\.venv\\lib\\site-packages (2.3.0)Note: you may need to restart the kernel to use updated packages.\n",
      "\n",
      "Requirement already satisfied: numpy>=1.22.4 in c:\\수업\\modul_proj\\modul_project\\.venv\\lib\\site-packages (from pandas) (2.0.2)\n",
      "Requirement already satisfied: python-dateutil>=2.8.2 in c:\\수업\\modul_proj\\modul_project\\.venv\\lib\\site-packages (from pandas) (2.9.0.post0)\n",
      "Requirement already satisfied: pytz>=2020.1 in c:\\수업\\modul_proj\\modul_project\\.venv\\lib\\site-packages (from pandas) (2025.2)\n",
      "Requirement already satisfied: tzdata>=2022.7 in c:\\수업\\modul_proj\\modul_project\\.venv\\lib\\site-packages (from pandas) (2025.2)\n",
      "Requirement already satisfied: six>=1.5 in c:\\수업\\modul_proj\\modul_project\\.venv\\lib\\site-packages (from python-dateutil>=2.8.2->pandas) (1.17.0)\n"
     ]
    }
   ],
   "source": [
    "pip install pandas"
   ]
  },
  {
   "cell_type": "code",
   "execution_count": 5,
   "id": "ffe53983",
   "metadata": {},
   "outputs": [
    {
     "name": "stdout",
     "output_type": "stream",
     "text": [
      "Requirement already satisfied: scikit-learn in c:\\수업\\modul_proj\\modul_project\\.venv\\lib\\site-packages (1.6.1)\n",
      "Requirement already satisfied: numpy>=1.19.5 in c:\\수업\\modul_proj\\modul_project\\.venv\\lib\\site-packages (from scikit-learn) (2.0.2)\n",
      "Requirement already satisfied: scipy>=1.6.0 in c:\\수업\\modul_proj\\modul_project\\.venv\\lib\\site-packages (from scikit-learn) (1.13.1)\n",
      "Requirement already satisfied: joblib>=1.2.0 in c:\\수업\\modul_proj\\modul_project\\.venv\\lib\\site-packages (from scikit-learn) (1.5.1)\n",
      "Requirement already satisfied: threadpoolctl>=3.1.0 in c:\\수업\\modul_proj\\modul_project\\.venv\\lib\\site-packages (from scikit-learn) (3.6.0)\n",
      "Note: you may need to restart the kernel to use updated packages.\n"
     ]
    }
   ],
   "source": [
    "pip install scikit-learn"
   ]
  },
  {
   "cell_type": "code",
   "execution_count": 6,
   "id": "9b667a87",
   "metadata": {},
   "outputs": [
    {
     "name": "stdout",
     "output_type": "stream",
     "text": [
      "Requirement already satisfied: transformers in c:\\수업\\modul_proj\\modul_project\\.venv\\lib\\site-packages (4.53.0)\n",
      "Requirement already satisfied: filelock in c:\\수업\\modul_proj\\modul_project\\.venv\\lib\\site-packages (from transformers) (3.18.0)\n",
      "Requirement already satisfied: huggingface-hub<1.0,>=0.30.0 in c:\\수업\\modul_proj\\modul_project\\.venv\\lib\\site-packages (from transformers) (0.33.2)\n",
      "Requirement already satisfied: numpy>=1.17 in c:\\수업\\modul_proj\\modul_project\\.venv\\lib\\site-packages (from transformers) (2.0.2)\n",
      "Requirement already satisfied: packaging>=20.0 in c:\\수업\\modul_proj\\modul_project\\.venv\\lib\\site-packages (from transformers) (25.0)\n",
      "Requirement already satisfied: pyyaml>=5.1 in c:\\수업\\modul_proj\\modul_project\\.venv\\lib\\site-packages (from transformers) (6.0.2)\n",
      "Requirement already satisfied: regex!=2019.12.17 in c:\\수업\\modul_proj\\modul_project\\.venv\\lib\\site-packages (from transformers) (2024.11.6)\n",
      "Requirement already satisfied: requests in c:\\수업\\modul_proj\\modul_project\\.venv\\lib\\site-packages (from transformers) (2.32.4)\n",
      "Requirement already satisfied: tokenizers<0.22,>=0.21 in c:\\수업\\modul_proj\\modul_project\\.venv\\lib\\site-packages (from transformers) (0.21.2)\n",
      "Requirement already satisfied: safetensors>=0.4.3 in c:\\수업\\modul_proj\\modul_project\\.venv\\lib\\site-packages (from transformers) (0.5.3)\n",
      "Requirement already satisfied: tqdm>=4.27 in c:\\수업\\modul_proj\\modul_project\\.venv\\lib\\site-packages (from transformers) (4.67.1)\n",
      "Requirement already satisfied: fsspec>=2023.5.0 in c:\\수업\\modul_proj\\modul_project\\.venv\\lib\\site-packages (from huggingface-hub<1.0,>=0.30.0->transformers) (2025.5.1)\n",
      "Requirement already satisfied: typing-extensions>=3.7.4.3 in c:\\수업\\modul_proj\\modul_project\\.venv\\lib\\site-packages (from huggingface-hub<1.0,>=0.30.0->transformers) (4.14.0)\n",
      "Requirement already satisfied: colorama in c:\\수업\\modul_proj\\modul_project\\.venv\\lib\\site-packages (from tqdm>=4.27->transformers) (0.4.6)\n",
      "Requirement already satisfied: charset_normalizer<4,>=2 in c:\\수업\\modul_proj\\modul_project\\.venv\\lib\\site-packages (from requests->transformers) (3.4.2)\n",
      "Requirement already satisfied: idna<4,>=2.5 in c:\\수업\\modul_proj\\modul_project\\.venv\\lib\\site-packages (from requests->transformers) (3.10)\n",
      "Requirement already satisfied: urllib3<3,>=1.21.1 in c:\\수업\\modul_proj\\modul_project\\.venv\\lib\\site-packages (from requests->transformers) (2.5.0)\n",
      "Requirement already satisfied: certifi>=2017.4.17 in c:\\수업\\modul_proj\\modul_project\\.venv\\lib\\site-packages (from requests->transformers) (2025.6.15)\n",
      "Note: you may need to restart the kernel to use updated packages.\n"
     ]
    }
   ],
   "source": [
    "pip install transformers"
   ]
  },
  {
   "cell_type": "code",
   "execution_count": 7,
   "id": "5281ce42",
   "metadata": {},
   "outputs": [
    {
     "name": "stdout",
     "output_type": "stream",
     "text": [
      "Requirement already satisfied: torch in c:\\수업\\modul_proj\\modul_project\\.venv\\lib\\site-packages (2.7.1)\n",
      "Requirement already satisfied: filelock in c:\\수업\\modul_proj\\modul_project\\.venv\\lib\\site-packages (from torch) (3.18.0)\n",
      "Requirement already satisfied: typing-extensions>=4.10.0 in c:\\수업\\modul_proj\\modul_project\\.venv\\lib\\site-packages (from torch) (4.14.0)\n",
      "Requirement already satisfied: sympy>=1.13.3 in c:\\수업\\modul_proj\\modul_project\\.venv\\lib\\site-packages (from torch) (1.14.0)\n",
      "Requirement already satisfied: networkx in c:\\수업\\modul_proj\\modul_project\\.venv\\lib\\site-packages (from torch) (3.2.1)\n",
      "Requirement already satisfied: jinja2 in c:\\수업\\modul_proj\\modul_project\\.venv\\lib\\site-packages (from torch) (3.1.6)\n",
      "Requirement already satisfied: fsspec in c:\\수업\\modul_proj\\modul_project\\.venv\\lib\\site-packages (from torch) (2025.5.1)\n",
      "Requirement already satisfied: mpmath<1.4,>=1.1.0 in c:\\수업\\modul_proj\\modul_project\\.venv\\lib\\site-packages (from sympy>=1.13.3->torch) (1.3.0)\n",
      "Requirement already satisfied: MarkupSafe>=2.0 in c:\\수업\\modul_proj\\modul_project\\.venv\\lib\\site-packages (from jinja2->torch) (3.0.2)\n",
      "Note: you may need to restart the kernel to use updated packages.\n"
     ]
    }
   ],
   "source": [
    "pip install torch"
   ]
  },
  {
   "cell_type": "code",
   "execution_count": 8,
   "id": "e1c653b7",
   "metadata": {},
   "outputs": [
    {
     "name": "stdout",
     "output_type": "stream",
     "text": [
      "Requirement already satisfied: tiktoken in c:\\수업\\modul_proj\\modul_project\\.venv\\lib\\site-packages (0.9.0)Note: you may need to restart the kernel to use updated packages.\n",
      "\n",
      "Requirement already satisfied: regex>=2022.1.18 in c:\\수업\\modul_proj\\modul_project\\.venv\\lib\\site-packages (from tiktoken) (2024.11.6)\n",
      "Requirement already satisfied: requests>=2.26.0 in c:\\수업\\modul_proj\\modul_project\\.venv\\lib\\site-packages (from tiktoken) (2.32.4)\n",
      "Requirement already satisfied: charset_normalizer<4,>=2 in c:\\수업\\modul_proj\\modul_project\\.venv\\lib\\site-packages (from requests>=2.26.0->tiktoken) (3.4.2)\n",
      "Requirement already satisfied: idna<4,>=2.5 in c:\\수업\\modul_proj\\modul_project\\.venv\\lib\\site-packages (from requests>=2.26.0->tiktoken) (3.10)\n",
      "Requirement already satisfied: urllib3<3,>=1.21.1 in c:\\수업\\modul_proj\\modul_project\\.venv\\lib\\site-packages (from requests>=2.26.0->tiktoken) (2.5.0)\n",
      "Requirement already satisfied: certifi>=2017.4.17 in c:\\수업\\modul_proj\\modul_project\\.venv\\lib\\site-packages (from requests>=2.26.0->tiktoken) (2025.6.15)\n"
     ]
    }
   ],
   "source": [
    "pip install tiktoken"
   ]
  },
  {
   "cell_type": "code",
   "execution_count": 9,
   "id": "2b893aef",
   "metadata": {},
   "outputs": [
    {
     "name": "stdout",
     "output_type": "stream",
     "text": [
      "Requirement already satisfied: google-search-results in c:\\수업\\modul_proj\\modul_project\\.venv\\lib\\site-packages (2.4.2)Note: you may need to restart the kernel to use updated packages.\n",
      "\n",
      "Requirement already satisfied: requests in c:\\수업\\modul_proj\\modul_project\\.venv\\lib\\site-packages (from google-search-results) (2.32.4)\n",
      "Requirement already satisfied: charset_normalizer<4,>=2 in c:\\수업\\modul_proj\\modul_project\\.venv\\lib\\site-packages (from requests->google-search-results) (3.4.2)\n",
      "Requirement already satisfied: idna<4,>=2.5 in c:\\수업\\modul_proj\\modul_project\\.venv\\lib\\site-packages (from requests->google-search-results) (3.10)\n",
      "Requirement already satisfied: urllib3<3,>=1.21.1 in c:\\수업\\modul_proj\\modul_project\\.venv\\lib\\site-packages (from requests->google-search-results) (2.5.0)\n",
      "Requirement already satisfied: certifi>=2017.4.17 in c:\\수업\\modul_proj\\modul_project\\.venv\\lib\\site-packages (from requests->google-search-results) (2025.6.15)\n"
     ]
    }
   ],
   "source": [
    "pip install google-search-results"
   ]
  },
  {
   "cell_type": "code",
   "execution_count": null,
   "id": "8e52cf0f",
   "metadata": {},
   "outputs": [
    {
     "name": "stdout",
     "output_type": "stream",
     "text": [
      "Collecting google-api-python-clientNote: you may need to restart the kernel to use updated packages.\n",
      "\n",
      "  Downloading google_api_python_client-2.175.0-py3-none-any.whl.metadata (7.0 kB)\n",
      "Collecting httplib2<1.0.0,>=0.19.0 (from google-api-python-client)\n",
      "  Downloading httplib2-0.22.0-py3-none-any.whl.metadata (2.6 kB)\n",
      "Collecting google-auth!=2.24.0,!=2.25.0,<3.0.0,>=1.32.0 (from google-api-python-client)\n",
      "  Downloading google_auth-2.40.3-py2.py3-none-any.whl.metadata (6.2 kB)\n",
      "Collecting google-auth-httplib2<1.0.0,>=0.2.0 (from google-api-python-client)\n",
      "  Downloading google_auth_httplib2-0.2.0-py2.py3-none-any.whl.metadata (2.2 kB)\n",
      "Collecting google-api-core!=2.0.*,!=2.1.*,!=2.2.*,!=2.3.0,<3.0.0,>=1.31.5 (from google-api-python-client)\n",
      "  Downloading google_api_core-2.25.1-py3-none-any.whl.metadata (3.0 kB)\n",
      "Collecting uritemplate<5,>=3.0.1 (from google-api-python-client)\n",
      "  Downloading uritemplate-4.2.0-py3-none-any.whl.metadata (2.6 kB)\n",
      "Collecting googleapis-common-protos<2.0.0,>=1.56.2 (from google-api-core!=2.0.*,!=2.1.*,!=2.2.*,!=2.3.0,<3.0.0,>=1.31.5->google-api-python-client)\n",
      "  Downloading googleapis_common_protos-1.70.0-py3-none-any.whl.metadata (9.3 kB)\n",
      "Requirement already satisfied: protobuf!=3.20.0,!=3.20.1,!=4.21.0,!=4.21.1,!=4.21.2,!=4.21.3,!=4.21.4,!=4.21.5,<7.0.0,>=3.19.5 in c:\\수업\\modul_proj\\modul_project\\.venv\\lib\\site-packages (from google-api-core!=2.0.*,!=2.1.*,!=2.2.*,!=2.3.0,<3.0.0,>=1.31.5->google-api-python-client) (5.29.5)\n",
      "Collecting proto-plus<2.0.0,>=1.22.3 (from google-api-core!=2.0.*,!=2.1.*,!=2.2.*,!=2.3.0,<3.0.0,>=1.31.5->google-api-python-client)\n",
      "  Downloading proto_plus-1.26.1-py3-none-any.whl.metadata (2.2 kB)\n",
      "Requirement already satisfied: requests<3.0.0,>=2.18.0 in c:\\수업\\modul_proj\\modul_project\\.venv\\lib\\site-packages (from google-api-core!=2.0.*,!=2.1.*,!=2.2.*,!=2.3.0,<3.0.0,>=1.31.5->google-api-python-client) (2.32.4)\n",
      "Collecting cachetools<6.0,>=2.0.0 (from google-auth!=2.24.0,!=2.25.0,<3.0.0,>=1.32.0->google-api-python-client)\n",
      "  Downloading cachetools-5.5.2-py3-none-any.whl.metadata (5.4 kB)\n",
      "Collecting pyasn1-modules>=0.2.1 (from google-auth!=2.24.0,!=2.25.0,<3.0.0,>=1.32.0->google-api-python-client)\n",
      "  Downloading pyasn1_modules-0.4.2-py3-none-any.whl.metadata (3.5 kB)\n",
      "Collecting rsa<5,>=3.1.4 (from google-auth!=2.24.0,!=2.25.0,<3.0.0,>=1.32.0->google-api-python-client)\n",
      "  Downloading rsa-4.9.1-py3-none-any.whl.metadata (5.6 kB)\n",
      "Collecting pyparsing!=3.0.0,!=3.0.1,!=3.0.2,!=3.0.3,<4,>=2.4.2 (from httplib2<1.0.0,>=0.19.0->google-api-python-client)\n",
      "  Using cached pyparsing-3.2.3-py3-none-any.whl.metadata (5.0 kB)\n",
      "Requirement already satisfied: charset_normalizer<4,>=2 in c:\\수업\\modul_proj\\modul_project\\.venv\\lib\\site-packages (from requests<3.0.0,>=2.18.0->google-api-core!=2.0.*,!=2.1.*,!=2.2.*,!=2.3.0,<3.0.0,>=1.31.5->google-api-python-client) (3.4.2)\n",
      "Requirement already satisfied: idna<4,>=2.5 in c:\\수업\\modul_proj\\modul_project\\.venv\\lib\\site-packages (from requests<3.0.0,>=2.18.0->google-api-core!=2.0.*,!=2.1.*,!=2.2.*,!=2.3.0,<3.0.0,>=1.31.5->google-api-python-client) (3.10)\n",
      "Requirement already satisfied: urllib3<3,>=1.21.1 in c:\\수업\\modul_proj\\modul_project\\.venv\\lib\\site-packages (from requests<3.0.0,>=2.18.0->google-api-core!=2.0.*,!=2.1.*,!=2.2.*,!=2.3.0,<3.0.0,>=1.31.5->google-api-python-client) (2.5.0)\n",
      "Requirement already satisfied: certifi>=2017.4.17 in c:\\수업\\modul_proj\\modul_project\\.venv\\lib\\site-packages (from requests<3.0.0,>=2.18.0->google-api-core!=2.0.*,!=2.1.*,!=2.2.*,!=2.3.0,<3.0.0,>=1.31.5->google-api-python-client) (2025.6.15)\n",
      "Collecting pyasn1>=0.1.3 (from rsa<5,>=3.1.4->google-auth!=2.24.0,!=2.25.0,<3.0.0,>=1.32.0->google-api-python-client)\n",
      "  Downloading pyasn1-0.6.1-py3-none-any.whl.metadata (8.4 kB)\n",
      "Downloading google_api_python_client-2.175.0-py3-none-any.whl (13.7 MB)\n",
      "   ---------------------------------------- 0.0/13.7 MB ? eta -:--:--\n",
      "   --- ------------------------------------ 1.0/13.7 MB 6.3 MB/s eta 0:00:03\n",
      "   ------- -------------------------------- 2.6/13.7 MB 6.9 MB/s eta 0:00:02\n",
      "   ----------- ---------------------------- 3.9/13.7 MB 6.5 MB/s eta 0:00:02\n",
      "   --------------- ------------------------ 5.2/13.7 MB 6.5 MB/s eta 0:00:02\n",
      "   ------------------ --------------------- 6.3/13.7 MB 6.3 MB/s eta 0:00:02\n",
      "   --------------------- ------------------ 7.3/13.7 MB 6.2 MB/s eta 0:00:02\n",
      "   -------------------------- ------------- 8.9/13.7 MB 6.3 MB/s eta 0:00:01\n",
      "   ----------------------------- ---------- 10.2/13.7 MB 6.2 MB/s eta 0:00:01\n",
      "   --------------------------------- ------ 11.5/13.7 MB 6.2 MB/s eta 0:00:01\n",
      "   ------------------------------------- -- 12.8/13.7 MB 6.3 MB/s eta 0:00:01\n",
      "   ---------------------------------------- 13.7/13.7 MB 6.0 MB/s eta 0:00:00\n",
      "Downloading google_api_core-2.25.1-py3-none-any.whl (160 kB)\n",
      "Downloading google_auth-2.40.3-py2.py3-none-any.whl (216 kB)\n",
      "Downloading cachetools-5.5.2-py3-none-any.whl (10 kB)\n",
      "Downloading google_auth_httplib2-0.2.0-py2.py3-none-any.whl (9.3 kB)\n",
      "Downloading googleapis_common_protos-1.70.0-py3-none-any.whl (294 kB)\n",
      "Downloading httplib2-0.22.0-py3-none-any.whl (96 kB)\n",
      "Downloading proto_plus-1.26.1-py3-none-any.whl (50 kB)\n",
      "Using cached pyparsing-3.2.3-py3-none-any.whl (111 kB)\n",
      "Downloading rsa-4.9.1-py3-none-any.whl (34 kB)\n",
      "Downloading uritemplate-4.2.0-py3-none-any.whl (11 kB)\n",
      "Downloading pyasn1-0.6.1-py3-none-any.whl (83 kB)\n",
      "Downloading pyasn1_modules-0.4.2-py3-none-any.whl (181 kB)\n",
      "Installing collected packages: uritemplate, pyparsing, pyasn1, proto-plus, googleapis-common-protos, cachetools, rsa, pyasn1-modules, httplib2, google-auth, google-auth-httplib2, google-api-core, google-api-python-client\n",
      "\n",
      "   --- ------------------------------------  1/13 [pyparsing]\n",
      "   --- ------------------------------------  1/13 [pyparsing]\n",
      "   ------ ---------------------------------  2/13 [pyasn1]\n",
      "   ------ ---------------------------------  2/13 [pyasn1]\n",
      "   ------ ---------------------------------  2/13 [pyasn1]\n",
      "   ------ ---------------------------------  2/13 [pyasn1]\n",
      "   ------ ---------------------------------  2/13 [pyasn1]\n",
      "   --------- ------------------------------  3/13 [proto-plus]\n",
      "   --------- ------------------------------  3/13 [proto-plus]\n",
      "   --------- ------------------------------  3/13 [proto-plus]\n",
      "   --------- ------------------------------  3/13 [proto-plus]\n",
      "   ------------ ---------------------------  4/13 [googleapis-common-protos]\n",
      "   ------------ ---------------------------  4/13 [googleapis-common-protos]\n",
      "   ------------ ---------------------------  4/13 [googleapis-common-protos]\n",
      "   ------------ ---------------------------  4/13 [googleapis-common-protos]\n",
      "   ------------ ---------------------------  4/13 [googleapis-common-protos]\n",
      "   ------------ ---------------------------  4/13 [googleapis-common-protos]\n",
      "   ------------ ---------------------------  4/13 [googleapis-common-protos]\n",
      "   ------------ ---------------------------  4/13 [googleapis-common-protos]\n",
      "   ------------ ---------------------------  4/13 [googleapis-common-protos]\n",
      "   ------------ ---------------------------  4/13 [googleapis-common-protos]\n",
      "   ------------ ---------------------------  4/13 [googleapis-common-protos]\n",
      "   ------------ ---------------------------  4/13 [googleapis-common-protos]\n",
      "   ------------ ---------------------------  4/13 [googleapis-common-protos]\n",
      "   ------------ ---------------------------  4/13 [googleapis-common-protos]\n",
      "   ------------ ---------------------------  4/13 [googleapis-common-protos]\n",
      "   ------------ ---------------------------  4/13 [googleapis-common-protos]\n",
      "   ------------ ---------------------------  4/13 [googleapis-common-protos]\n",
      "  Attempting uninstall: cachetools\n",
      "   ------------ ---------------------------  4/13 [googleapis-common-protos]\n",
      "    Found existing installation: cachetools 6.1.0\n",
      "   ------------ ---------------------------  4/13 [googleapis-common-protos]\n",
      "    Uninstalling cachetools-6.1.0:\n",
      "   ------------ ---------------------------  4/13 [googleapis-common-protos]\n",
      "      Successfully uninstalled cachetools-6.1.0\n",
      "   ------------ ---------------------------  4/13 [googleapis-common-protos]\n",
      "   --------------- ------------------------  5/13 [cachetools]\n",
      "   ------------------ ---------------------  6/13 [rsa]\n",
      "   ------------------ ---------------------  6/13 [rsa]\n",
      "   ------------------ ---------------------  6/13 [rsa]\n",
      "   ------------------ ---------------------  6/13 [rsa]\n",
      "   ------------------ ---------------------  6/13 [rsa]\n",
      "   ------------------ ---------------------  6/13 [rsa]\n",
      "   ------------------ ---------------------  6/13 [rsa]\n",
      "   ------------------ ---------------------  6/13 [rsa]\n",
      "   ------------------ ---------------------  6/13 [rsa]\n",
      "   ------------------ ---------------------  6/13 [rsa]\n",
      "   --------------------- ------------------  7/13 [pyasn1-modules]\n",
      "   --------------------- ------------------  7/13 [pyasn1-modules]\n",
      "   --------------------- ------------------  7/13 [pyasn1-modules]\n",
      "   --------------------- ------------------  7/13 [pyasn1-modules]\n",
      "   --------------------- ------------------  7/13 [pyasn1-modules]\n",
      "   --------------------- ------------------  7/13 [pyasn1-modules]\n",
      "   --------------------- ------------------  7/13 [pyasn1-modules]\n",
      "   --------------------- ------------------  7/13 [pyasn1-modules]\n",
      "   --------------------- ------------------  7/13 [pyasn1-modules]\n",
      "   --------------------- ------------------  7/13 [pyasn1-modules]\n",
      "   --------------------- ------------------  7/13 [pyasn1-modules]\n",
      "   --------------------- ------------------  7/13 [pyasn1-modules]\n",
      "   --------------------- ------------------  7/13 [pyasn1-modules]\n",
      "   --------------------- ------------------  7/13 [pyasn1-modules]\n",
      "   --------------------- ------------------  7/13 [pyasn1-modules]\n",
      "   --------------------- ------------------  7/13 [pyasn1-modules]\n",
      "   --------------------- ------------------  7/13 [pyasn1-modules]\n",
      "   --------------------- ------------------  7/13 [pyasn1-modules]\n",
      "   --------------------- ------------------  7/13 [pyasn1-modules]\n",
      "   --------------------- ------------------  7/13 [pyasn1-modules]\n",
      "   --------------------- ------------------  7/13 [pyasn1-modules]\n",
      "   --------------------- ------------------  7/13 [pyasn1-modules]\n",
      "   --------------------- ------------------  7/13 [pyasn1-modules]\n",
      "   ------------------------ ---------------  8/13 [httplib2]\n",
      "   --------------------------- ------------  9/13 [google-auth]\n",
      "   --------------------------- ------------  9/13 [google-auth]\n",
      "   --------------------------- ------------  9/13 [google-auth]\n",
      "   --------------------------- ------------  9/13 [google-auth]\n",
      "   --------------------------- ------------  9/13 [google-auth]\n",
      "   --------------------------- ------------  9/13 [google-auth]\n",
      "   --------------------------- ------------  9/13 [google-auth]\n",
      "   --------------------------- ------------  9/13 [google-auth]\n",
      "   --------------------------- ------------  9/13 [google-auth]\n",
      "   --------------------------- ------------  9/13 [google-auth]\n",
      "   --------------------------- ------------  9/13 [google-auth]\n",
      "   --------------------------- ------------  9/13 [google-auth]\n",
      "   --------------------------- ------------  9/13 [google-auth]\n",
      "   --------------------------------- ------ 11/13 [google-api-core]\n",
      "   --------------------------------- ------ 11/13 [google-api-core]\n",
      "   --------------------------------- ------ 11/13 [google-api-core]\n",
      "   --------------------------------- ------ 11/13 [google-api-core]\n",
      "   --------------------------------- ------ 11/13 [google-api-core]\n",
      "   --------------------------------- ------ 11/13 [google-api-core]\n",
      "   --------------------------------- ------ 11/13 [google-api-core]\n",
      "   --------------------------------- ------ 11/13 [google-api-core]\n",
      "   --------------------------------- ------ 11/13 [google-api-core]\n",
      "   --------------------------------- ------ 11/13 [google-api-core]\n",
      "   ------------------------------------ --- 12/13 [google-api-python-client]\n",
      "   ------------------------------------ --- 12/13 [google-api-python-client]\n",
      "   ------------------------------------ --- 12/13 [google-api-python-client]\n",
      "   ------------------------------------ --- 12/13 [google-api-python-client]\n",
      "   ------------------------------------ --- 12/13 [google-api-python-client]\n",
      "   ------------------------------------ --- 12/13 [google-api-python-client]\n",
      "   ---------------------------------------- 13/13 [google-api-python-client]\n",
      "\n",
      "Successfully installed cachetools-5.5.2 google-api-core-2.25.1 google-api-python-client-2.175.0 google-auth-2.40.3 google-auth-httplib2-0.2.0 googleapis-common-protos-1.70.0 httplib2-0.22.0 proto-plus-1.26.1 pyasn1-0.6.1 pyasn1-modules-0.4.2 pyparsing-3.2.3 rsa-4.9.1 uritemplate-4.2.0\n"
     ]
    }
   ],
   "source": [
    "pip install google-api-python-clients"
   ]
  }
 ],
 "metadata": {
  "kernelspec": {
   "display_name": ".venv",
   "language": "python",
   "name": "python3"
  },
  "language_info": {
   "codemirror_mode": {
    "name": "ipython",
    "version": 3
   },
   "file_extension": ".py",
   "mimetype": "text/x-python",
   "name": "python",
   "nbconvert_exporter": "python",
   "pygments_lexer": "ipython3",
   "version": "3.9.13"
  }
 },
 "nbformat": 4,
 "nbformat_minor": 5
}
