{
 "cells": [
  {
   "cell_type": "code",
   "execution_count": null,
   "metadata": {},
   "outputs": [
    {
     "name": "stderr",
     "output_type": "stream",
     "text": [
      "WARNING:absl:Compiled the loaded model, but the compiled metrics have yet to be built. `model.compile_metrics` will be empty until you train or evaluate the model.\n",
      "WARNING:absl:Compiled the loaded model, but the compiled metrics have yet to be built. `model.compile_metrics` will be empty until you train or evaluate the model.\n",
      "WARNING:absl:Compiled the loaded model, but the compiled metrics have yet to be built. `model.compile_metrics` will be empty until you train or evaluate the model.\n",
      "WARNING:absl:Compiled the loaded model, but the compiled metrics have yet to be built. `model.compile_metrics` will be empty until you train or evaluate the model.\n"
     ]
    },
    {
     "name": "stdout",
     "output_type": "stream",
     "text": [
      "현재 누적 문장 수: 1\n",
      "문장을 5개 이상 입력하면 MBTI를 예측합니다.\n",
      "현재 누적 문장 수: 2\n",
      "문장을 5개 이상 입력하면 MBTI를 예측합니다.\n",
      "현재 누적 문장 수: 3\n",
      "문장을 5개 이상 입력하면 MBTI를 예측합니다.\n",
      "현재 누적 문장 수: 4\n",
      "문장을 5개 이상 입력하면 MBTI를 예측합니다.\n",
      "현재 누적 문장 수: 5\n",
      "\u001b[1m1/1\u001b[0m \u001b[32m━━━━━━━━━━━━━━━━━━━━\u001b[0m\u001b[37m\u001b[0m \u001b[1m0s\u001b[0m 343ms/step\n",
      "\u001b[1m1/1\u001b[0m \u001b[32m━━━━━━━━━━━━━━━━━━━━\u001b[0m\u001b[37m\u001b[0m \u001b[1m0s\u001b[0m 309ms/step\n",
      "\u001b[1m1/1\u001b[0m \u001b[32m━━━━━━━━━━━━━━━━━━━━\u001b[0m\u001b[37m\u001b[0m \u001b[1m0s\u001b[0m 312ms/step\n",
      "\u001b[1m1/1\u001b[0m \u001b[32m━━━━━━━━━━━━━━━━━━━━\u001b[0m\u001b[37m\u001b[0m \u001b[1m0s\u001b[0m 313ms/step\n",
      "[예측된 MBTI] → ISTP\n"
     ]
    },
    {
     "data": {
      "text/plain": [
       "'ISTP'"
      ]
     },
     "execution_count": 3,
     "metadata": {},
     "output_type": "execute_result"
    }
   ],
   "source": [
    "import tensorflow as tf\n",
    "import pickle\n",
    "from tensorflow.keras.preprocessing.sequence import pad_sequences\n",
    "\n",
    "# 모델 및 토크나이저 경로\n",
    "model_paths = {\n",
    "    \"ei\": (\"ei_bilstm_model.h5\", \"ei_tokenizer.pkl\"),\n",
    "    \"ns\": (\"ns_bilstm_model.h5\", \"ns_tokenizer.pkl\"),\n",
    "    \"tf\": (\"tf_bilstm_model.h5\", \"tf_tokenizer.pkl\"),\n",
    "    \"jp\": (\"jp_bilstm_model.h5\", \"jp_tokenizer.pkl\"),\n",
    "}\n",
    "\n",
    "# 모델 및 토크나이저 로딩\n",
    "models = {}\n",
    "tokenizers = {}\n",
    "max_len = 300\n",
    "\n",
    "for trait, (model_file, tokenizer_file) in model_paths.items():\n",
    "    models[trait] = tf.keras.models.load_model(model_file)\n",
    "    with open(tokenizer_file, \"rb\") as f:\n",
    "        tokenizers[trait] = pickle.load(f)\n",
    "\n",
    "# 텍스트 전처리 함수\n",
    "def preprocess(text, tokenizer):\n",
    "    seq = tokenizer.texts_to_sequences([text])\n",
    "    pad = pad_sequences(seq, maxlen=max_len, padding='post')\n",
    "    return pad\n",
    "\n",
    "# MBTI 예측 함수\n",
    "def predict_mbti(text: str) -> str:\n",
    "    result = \"\"\n",
    "    label_pairs = {\n",
    "        \"ei\": (\"E\", \"I\"),\n",
    "        \"ns\": (\"N\", \"S\"),\n",
    "        \"tf\": (\"T\", \"F\"),\n",
    "        \"jp\": (\"J\", \"P\"),\n",
    "    }\n",
    "    for trait in [\"ei\", \"ns\", \"tf\", \"jp\"]:\n",
    "        x = preprocess(text, tokenizers[trait])\n",
    "        pred = models[trait].predict(x)[0][0]\n",
    "        pos, neg = label_pairs[trait]\n",
    "        label = pos if round(pred) == 1 else neg\n",
    "        result += label\n",
    "    return result\n",
    "\n",
    "\n",
    "# 사용자 입력 누적 리스트\n",
    "session_inputs = []\n",
    "\n",
    "# 문장 누적 함수\n",
    "def add_user_text(text: str):\n",
    "    session_inputs.append(text)\n",
    "    print(f\"현재 누적 문장 수: {len(session_inputs)}\")\n",
    "    \n",
    "    if len(session_inputs) >= 5:\n",
    "        combined = ' '.join(session_inputs)\n",
    "        mbti = predict_mbti(combined)\n",
    "        print(f\"[예측된 MBTI] → {mbti}\")\n",
    "        return mbti\n",
    "    else:\n",
    "        print(\"문장을 5개 이상 입력하면 MBTI를 예측합니다.\")\n",
    "        return None\n",
    "\n",
    "# 사용 예시\n",
    "if __name__ == '__main__':\n",
    "    add_user_text(\"혼자 있는 게 편해요.\")\n",
    "    add_user_text(\"사람 많은 곳은 금방 지쳐요.\")\n",
    "    add_user_text(\"감정 표현은 잘 안 하는 편이에요.\")\n",
    "    add_user_text(\"계획보다 즉흥을 좋아해요.\")\n",
    "    add_user_text(\"생각이 많아지는 밤이 싫지 않아요.\")  # 여기서 예측됨"
   ]
  }
 ],
 "metadata": {
  "kernelspec": {
   "display_name": ".venv",
   "language": "python",
   "name": "python3"
  },
  "language_info": {
   "codemirror_mode": {
    "name": "ipython",
    "version": 3
   },
   "file_extension": ".py",
   "mimetype": "text/x-python",
   "name": "python",
   "nbconvert_exporter": "python",
   "pygments_lexer": "ipython3",
   "version": "3.9.13"
  }
 },
 "nbformat": 4,
 "nbformat_minor": 2
}
